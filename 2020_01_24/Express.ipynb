{
 "cells": [
  {
   "cell_type": "markdown",
   "metadata": {},
   "source": [
    "## Question:\n",
    "\n",
    "Derek Jeter and Larry Walker were just elected to the Baseball Hall of Fame! That got Stephanie thinking. Suppose there are 20 players on the ballot and 400 voters in a given year. Each voter can select up to 10 players for induction without voting for any given player more than once. To gain entry, a player must have been selected on at least 75 percent of the ballots.\n",
    "\n",
    "Under these circumstances, what is the maximum number of players that can be inducted into the Hall of Fame?"
   ]
  },
  {
   "cell_type": "markdown",
   "metadata": {},
   "source": [
    "________"
   ]
  },
  {
   "cell_type": "markdown",
   "metadata": {},
   "source": [
    "So 400 voters, each with 10 votes. A player needs 300 to get in."
   ]
  },
  {
   "cell_type": "code",
   "execution_count": 2,
   "metadata": {},
   "outputs": [
    {
     "data": {
      "text/plain": [
       "300.0"
      ]
     },
     "execution_count": 2,
     "metadata": {},
     "output_type": "execute_result"
    }
   ],
   "source": [
    "400*0.75"
   ]
  },
  {
   "cell_type": "markdown",
   "metadata": {},
   "source": [
    "What if we start with thinking that 300 of the 400 all vote for the SAME 10 players. Then those ten players get in. The other 100 voters votes essentially don't matter. If they all voted for the OTHER 10 players, none of them would get in. "
   ]
  },
  {
   "cell_type": "markdown",
   "metadata": {},
   "source": [
    "What if we simplify...  \n",
    "40 voters   \n",
    "1 vote a piece   \n",
    "2 players   \n",
    "\n",
    "30 votes to get in... can each player get in?   \n",
    "  \n",
    "No. There are only 40 votes, where each player needs 30...   \n",
    "\n",
    "OK so the answer is somewhere between 10 and 20 haha  \n"
   ]
  },
  {
   "cell_type": "code",
   "execution_count": 3,
   "metadata": {},
   "outputs": [
    {
     "data": {
      "text/plain": [
       "200.0"
      ]
     },
     "execution_count": 3,
     "metadata": {},
     "output_type": "execute_result"
    }
   ],
   "source": [
    "4000/20 #total available votes, distributed amongst the players equally. No one would get in!"
   ]
  },
  {
   "cell_type": "code",
   "execution_count": 5,
   "metadata": {},
   "outputs": [
    {
     "data": {
      "text/plain": [
       "13.333333333333334"
      ]
     },
     "execution_count": 5,
     "metadata": {},
     "output_type": "execute_result"
    }
   ],
   "source": [
    "4000/300 # total votes divided by number needed to get in"
   ]
  },
  {
   "cell_type": "markdown",
   "metadata": {},
   "source": [
    "This makes it look like only 13 players could get in..."
   ]
  },
  {
   "cell_type": "markdown",
   "metadata": {},
   "source": [
    "What if we picture everyone voting in a circle... The first guy votes for player a, then the next guy votes for player a, until we get to guy 300 who casts the final vote for player a. \n",
    "\n",
    "Next guy 301 votes for player b, etc, guy 400 votes player b. Then guy 1 votes for player b, etc, guy 200 votes player b. \n",
    "\n",
    "Guy 201 votes player c. Guy 400 votes c. Guy 1 votes player c. Guy 100 votes player c.\n",
    "\n",
    "Guy 101 votes player d. Guy 400 votes player d.\n",
    "\n",
    "EVERYONE HAS VOTED THREE TIMES and **we've gotten 4 players in.**\n"
   ]
  },
  {
   "cell_type": "code",
   "execution_count": 7,
   "metadata": {},
   "outputs": [
    {
     "data": {
      "text/plain": [
       "12"
      ]
     },
     "execution_count": 7,
     "metadata": {},
     "output_type": "execute_result"
    }
   ],
   "source": [
    "4*3 # 4 players voted in every three rounds; what about the tenth?"
   ]
  },
  {
   "cell_type": "markdown",
   "metadata": {},
   "source": [
    "That's 12 through the first 9 rounds. In the 10th round, the voters could vote *one* more in. \n",
    "\n",
    "## Answer: 13 players max voted in"
   ]
  },
  {
   "cell_type": "code",
   "execution_count": null,
   "metadata": {},
   "outputs": [],
   "source": []
  }
 ],
 "metadata": {
  "kernelspec": {
   "display_name": "Python 3",
   "language": "python",
   "name": "python3"
  },
  "language_info": {
   "codemirror_mode": {
    "name": "ipython",
    "version": 3
   },
   "file_extension": ".py",
   "mimetype": "text/x-python",
   "name": "python",
   "nbconvert_exporter": "python",
   "pygments_lexer": "ipython3",
   "version": "3.7.3"
  }
 },
 "nbformat": 4,
 "nbformat_minor": 4
}
